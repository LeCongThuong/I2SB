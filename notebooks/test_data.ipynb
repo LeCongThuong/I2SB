{
 "cells": [
  {
   "cell_type": "code",
   "execution_count": 2,
   "metadata": {},
   "outputs": [],
   "source": [
    "import sys\n",
    "import os"
   ]
  },
  {
   "cell_type": "code",
   "execution_count": null,
   "metadata": {},
   "outputs": [],
   "source": [
    "import os\n",
    "import cv2\n",
    "import numpy as np\n",
    "\n",
    "from PIL import Image\n",
    "from pathlib import Path\n",
    "from functools import partial\n",
    "\n",
    "import torch\n",
    "import torch.nn as nn\n",
    "from torch.utils.data import Dataset\n",
    "from torchvision import transforms as T"
   ]
  },
  {
   "cell_type": "code",
   "execution_count": 4,
   "metadata": {},
   "outputs": [],
   "source": [
    "class WoodblockDataset(Dataset):\n",
    "    def __init__(\n",
    "        self,\n",
    "        dataset_dir,\n",
    "        train,\n",
    "        subset=-1\n",
    "    ):\n",
    "        super().__init__()\n",
    "        self.dataset_dir = Path(dataset_dir) / ('train' if train else 'subtest')\n",
    "        self.print_dir = self.dataset_dir / 'print_512'\n",
    "        self.depth_dir = self.dataset_dir / 'np_depth_512'\n",
    "\n",
    "        self.print_img_path_list = list(Path(self.print_dir).glob(\"*.png\"))\n",
    "        self.depth_img_path_list = [Path(os.path.join(self.depth_dir, print_img_path.stem + \".npy\")) for print_img_path in self.print_img_path_list]\n",
    "        \n",
    "        if subset != -1:\n",
    "            self.print_img_path_list = self.print_img_path_list[:subset]\n",
    "            self.depth_img_path_list = self.depth_img_path_list[:subset]\n",
    "\n",
    "        self.transform = T.Compose([\n",
    "            T.ToTensor(),\n",
    "            T.Lambda(lambda t: (t * 2) - 1)\n",
    "        ])\n",
    "        \n",
    "    def __len__(self):\n",
    "        return len(self.print_img_path_list)\n",
    "\n",
    "    def preprocess_image(self, image_path):\n",
    "        \"\"\"Utility function that load an image an convert to torch.\"\"\"\n",
    "        # open image using OpenCV (HxWxC)\n",
    "        img = Image.open(image_path).convert('L')\n",
    "        # convert image to torch tensor (CxHxW)\n",
    "        img_t: torch.Tensor = self.transform(img)\n",
    "        return img_t\n",
    "\n",
    "    def preprocess_depth(self, depth_path):\n",
    "        \"\"\"Utility function that load an image an convert to torch.\"\"\"\n",
    "        # open image using OpenCV (HxWxC)\n",
    "        img: np.ndarray = np.load(depth_path)\n",
    "        img = np.asarray(img, dtype=np.float16)\n",
    "        \n",
    "        mask = img != img.max()\n",
    "        mask = np.expand_dims(mask, axis=0)\n",
    "        t_mask = torch.from_numpy(mask)\n",
    "        \n",
    "        t_img = self.transform(img)\n",
    "        return t_img, t_mask\n",
    "    \n",
    "    def __getitem__(self, index):\n",
    "        print_path = self.print_img_path_list[index]\n",
    "        depth_path = self.depth_img_path_list[index]\n",
    "\n",
    "        t_print = self.preprocess_image(print_path)\n",
    "        t_depth, mask = self.preprocess_depth(depth_path)\n",
    "        \n",
    "        # mask = t_depth != torch.max(t_depth)\n",
    "\n",
    "        return t_depth, t_print, mask"
   ]
  },
  {
   "cell_type": "code",
   "execution_count": 7,
   "metadata": {},
   "outputs": [],
   "source": [
    "dataset_dir = \"/mnt/hmi/thuong/wb_train_val_test_dataset/\"\n",
    "train = False\n",
    "subset=-1\n",
    "wb_dataset = WoodblockDataset(dataset_dir, train, subset)"
   ]
  },
  {
   "cell_type": "code",
   "execution_count": 8,
   "metadata": {},
   "outputs": [],
   "source": [
    "sample = wb_dataset[0]"
   ]
  },
  {
   "cell_type": "code",
   "execution_count": 18,
   "metadata": {},
   "outputs": [
    {
     "data": {
      "text/plain": [
       "torch.bool"
      ]
     },
     "execution_count": 18,
     "metadata": {},
     "output_type": "execute_result"
    }
   ],
   "source": [
    "sample[2].dtype"
   ]
  },
  {
   "cell_type": "code",
   "execution_count": 15,
   "metadata": {},
   "outputs": [
    {
     "data": {
      "text/plain": [
       "<matplotlib.image.AxesImage at 0x7fb9cec31040>"
      ]
     },
     "execution_count": 15,
     "metadata": {},
     "output_type": "execute_result"
    },
    {
     "data": {
      "image/png": "[encoded data removed]",
      "text/plain": [
       "<Figure size 640x480 with 1 Axes>"
      ]
     },
     "metadata": {},
     "output_type": "display_data"
    }
   ],
   "source": [
    "import matplotlib.pyplot as plt\n",
    "plt.imshow(torch.squeeze(sample[2], 0), cmap='gray')"
   ]
  },
  {
   "cell_type": "code",
   "execution_count": null,
   "metadata": {},
   "outputs": [],
   "source": []
  }
 ],
 "metadata": {
  "kernelspec": {
   "display_name": "i2sb",
   "language": "python",
   "name": "python3"
  },
  "language_info": {
   "codemirror_mode": {
    "name": "ipython",
    "version": 3
   },
   "file_extension": ".py",
   "mimetype": "text/x-python",
   "name": "python",
   "nbconvert_exporter": "python",
   "pygments_lexer": "ipython3",
   "version": "3.8.18"
  }
 },
 "nbformat": 4,
 "nbformat_minor": 2
}
